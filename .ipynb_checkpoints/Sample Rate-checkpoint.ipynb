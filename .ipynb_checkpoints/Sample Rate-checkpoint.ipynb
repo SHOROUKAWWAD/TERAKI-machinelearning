{
 "cells": [
  {
   "cell_type": "code",
   "execution_count": 1,
   "metadata": {},
   "outputs": [],
   "source": [
    "import numpy as np \n",
    "import glob ,os"
   ]
  },
  {
   "cell_type": "code",
   "execution_count": 19,
   "metadata": {},
   "outputs": [
    {
     "name": "stdout",
     "output_type": "stream",
     "text": [
      "/home/shorouk/Desktop/file/data/data_449.csv\n",
      "1.9039218670000002\n",
      "/home/shorouk/Desktop/file/data/data_788.csv\n",
      "4.299465894\n",
      "/home/shorouk/Desktop/file/data/data_668.csv\n",
      "3.592278346\n",
      "/home/shorouk/Desktop/file/data/data_729.csv\n",
      "3.2983976800000003\n",
      "/home/shorouk/Desktop/file/data/data_545.csv\n",
      "4.907645352\n",
      "/home/shorouk/Desktop/file/data/data_997.csv\n",
      "4.494246909\n",
      "/home/shorouk/Desktop/file/data/data_825.csv\n",
      "2.198840226\n",
      "/home/shorouk/Desktop/file/data/data_562.csv\n",
      "3.5147260790000003\n",
      "/home/shorouk/Desktop/file/data/data_17.csv\n",
      "2.689668854\n",
      "/home/shorouk/Desktop/file/data/data_344.csv\n",
      "4.004822219\n",
      "/home/shorouk/Desktop/file/data/data_347.csv\n",
      "2.611170457\n",
      "/home/shorouk/Desktop/file/data/data_213.csv\n",
      "2.100289943\n",
      "/home/shorouk/Desktop/file/data/data_309.csv\n",
      "3.612910117\n",
      "/home/shorouk/Desktop/file/data/data_114.csv\n",
      "4.496291773\n",
      "/home/shorouk/Desktop/file/data/data_873.csv\n",
      "2.00241111\n",
      "/home/shorouk/Desktop/file/data/data_13.csv\n",
      "3.1991759490000002\n",
      "/home/shorouk/Desktop/file/data/data_734.csv\n",
      "3.0023500690000002\n",
      "/home/shorouk/Desktop/file/data/data_231.csv\n",
      "3.494552113\n",
      "/home/shorouk/Desktop/file/data/data_339.csv\n",
      "3.690431863\n",
      "/home/shorouk/Desktop/file/data/data_764.csv\n",
      "2.29674958\n",
      "/home/shorouk/Desktop/file/data/data_312.csv\n",
      "3.003815045\n",
      "/home/shorouk/Desktop/file/data/data_12.csv\n",
      "3.788249657\n"
     ]
    }
   ],
   "source": [
    "i = 0\n",
    "sum_ = []\n",
    "x =0\n",
    "folder_path = '/home/shorouk/Desktop/file/data'\n",
    "for filename in glob.glob(os.path.join(folder_path, '*.csv')):\n",
    "    with open(filename, 'r') as f:\n",
    "        text = f.read()\n",
    "        print (filename)\n",
    "        Data = np.genfromtxt(filename,delimiter = ',')\n",
    "        Data = Data[1:]\n",
    "        print((Data[:,0].max()-Data[:,0].min() )*1e-9)\n",
    "        x = Data.shape[0]/((Data[:,0].max()-Data[:,0].min())*1e-9)\n",
    "        sum_.append(x)\n",
    "        i = i + 1"
   ]
  },
  {
   "cell_type": "code",
   "execution_count": 20,
   "metadata": {},
   "outputs": [
    {
     "data": {
      "text/plain": [
       "51.26841350257594"
      ]
     },
     "execution_count": 20,
     "metadata": {},
     "output_type": "execute_result"
    }
   ],
   "source": [
    "np.mean(sum_)"
   ]
  },
  {
   "cell_type": "code",
   "execution_count": null,
   "metadata": {},
   "outputs": [],
   "source": []
  }
 ],
 "metadata": {
  "kernelspec": {
   "display_name": "Python 3",
   "language": "python",
   "name": "python3"
  },
  "language_info": {
   "codemirror_mode": {
    "name": "ipython",
    "version": 3
   },
   "file_extension": ".py",
   "mimetype": "text/x-python",
   "name": "python",
   "nbconvert_exporter": "python",
   "pygments_lexer": "ipython3",
   "version": "3.7.6"
  }
 },
 "nbformat": 4,
 "nbformat_minor": 4
}
